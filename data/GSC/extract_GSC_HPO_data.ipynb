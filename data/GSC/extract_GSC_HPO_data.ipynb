{
 "cells": [
  {
   "cell_type": "code",
   "execution_count": 1,
   "metadata": {},
   "outputs": [],
   "source": [
    "# first step is to download and extract the .rar files from https://github.com/lasigeBioTM/IHP\n",
    "# this code assumes each .rar file is saved in a folder in the same directory as the code\n",
    "# only input needed is the name of the folder for the .rar file"
   ]
  },
  {
   "cell_type": "code",
   "execution_count": 2,
   "metadata": {},
   "outputs": [],
   "source": [
    "# import dependencies\n",
    "\n",
    "import pandas as pd\n",
    "import os\n",
    "import re"
   ]
  },
  {
   "cell_type": "code",
   "execution_count": 5,
   "metadata": {},
   "outputs": [],
   "source": [
    "# define functions\n",
    "\n",
    "def read_in_data(path):\n",
    "    data = []\n",
    "    files = [f for f in os.listdir(path)]\n",
    "    for f in files:\n",
    "        with open (os.path.join(path,f), \"r\") as myfile:\n",
    "            data.append(myfile.read())\n",
    "    return data, files\n",
    "\n",
    "def extract_all(regex, x, numeric):\n",
    "    all_items = x.split('\\n')[:-1]\n",
    "    out_list = []\n",
    "    for item in all_items:\n",
    "        if numeric == False:\n",
    "            out_list.append(re.search(regex,item).group(1))\n",
    "        else:\n",
    "            out_list.append(int(re.search(regex,item).group(1))) \n",
    "    return out_list\n",
    "\n",
    "def expand_labels(df):\n",
    "    df['HPO_symptoms'] = df['labels'].apply(lambda x: extract_all('\\| (.*)',x,False))\n",
    "    df['HPO_codes'] = df['labels'].apply(lambda x: extract_all('\\tHP_(.*) \\|',x,False))\n",
    "    df['starts'] = df['labels'].apply(lambda x: extract_all('\\[(\\d*)::',x,True))\n",
    "    df['ends'] = df['labels'].apply(lambda x: extract_all('::(\\d*)\\]',x,True))\n",
    "    df.drop(columns='labels',inplace=True)\n",
    "    \n",
    "def output_GSC_data(GSC_folder):\n",
    "    \n",
    "    # read in data as a dataframe\n",
    "    text_data, text_files = read_in_data(os.path.join(os.getcwd(),GSC_folder+'\\\\Text'))\n",
    "    annot_data, annot_files = read_in_data(os.path.join(os.getcwd(),GSC_folder+'\\\\Annotations'))\n",
    "    print('Filenames match:',text_files==annot_files)\n",
    "    if text_files==annot_files:\n",
    "        df = pd.DataFrame({'file':text_files, 'text':text_data, 'labels':annot_data})\n",
    "\n",
    "        # parse data\n",
    "        expand_labels(df)\n",
    "\n",
    "        # output as csv\n",
    "        filename = GSC_folder + '.csv'\n",
    "        df.to_csv(filename, index=False)\n",
    "    else:\n",
    "        raise Exception('Need to match filenames before constructing datasets')"
   ]
  },
  {
   "cell_type": "code",
   "execution_count": 6,
   "metadata": {},
   "outputs": [
    {
     "name": "stdout",
     "output_type": "stream",
     "text": [
      "Filenames match: True\n",
      "Filenames match: True\n"
     ]
    }
   ],
   "source": [
    "# get data\n",
    "\n",
    "output_GSC_data('GSC_v2')\n",
    "output_GSC_data('GSC+')"
   ]
  },
  {
   "cell_type": "code",
   "execution_count": null,
   "metadata": {},
   "outputs": [],
   "source": []
  }
 ],
 "metadata": {
  "kernelspec": {
   "display_name": "Python 3",
   "language": "python",
   "name": "python3"
  },
  "language_info": {
   "codemirror_mode": {
    "name": "ipython",
    "version": 3
   },
   "file_extension": ".py",
   "mimetype": "text/x-python",
   "name": "python",
   "nbconvert_exporter": "python",
   "pygments_lexer": "ipython3",
   "version": "3.6.8"
  }
 },
 "nbformat": 4,
 "nbformat_minor": 2
}
