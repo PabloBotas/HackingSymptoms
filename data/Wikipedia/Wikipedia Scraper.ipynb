{
 "cells": [
  {
   "cell_type": "code",
   "execution_count": 16,
   "metadata": {},
   "outputs": [
    {
     "name": "stdout",
     "output_type": "stream",
     "text": [
      "Requirement already satisfied: wikipedia-api in c:\\users\\t-hechit\\anaconda3\\envs\\foundation29env\\lib\\site-packages (0.5.4)\n",
      "Requirement already satisfied: requests in c:\\users\\t-hechit\\anaconda3\\envs\\foundation29env\\lib\\site-packages (from wikipedia-api) (2.24.0)\n",
      "Requirement already satisfied: urllib3!=1.25.0,!=1.25.1,<1.26,>=1.21.1 in c:\\users\\t-hechit\\anaconda3\\envs\\foundation29env\\lib\\site-packages (from requests->wikipedia-api) (1.25.10)\n",
      "Requirement already satisfied: certifi>=2017.4.17 in c:\\users\\t-hechit\\anaconda3\\envs\\foundation29env\\lib\\site-packages (from requests->wikipedia-api) (2020.6.20)\n",
      "Requirement already satisfied: idna<3,>=2.5 in c:\\users\\t-hechit\\anaconda3\\envs\\foundation29env\\lib\\site-packages (from requests->wikipedia-api) (2.10)\n",
      "Requirement already satisfied: chardet<4,>=3.0.2 in c:\\users\\t-hechit\\anaconda3\\envs\\foundation29env\\lib\\site-packages (from requests->wikipedia-api) (3.0.4)\n"
     ]
    }
   ],
   "source": [
    "!pip install wikipedia-api"
   ]
  },
  {
   "cell_type": "code",
   "execution_count": 17,
   "metadata": {},
   "outputs": [],
   "source": [
    "import wikipediaapi\n",
    "import pandas as pd"
   ]
  },
  {
   "cell_type": "code",
   "execution_count": 18,
   "metadata": {},
   "outputs": [],
   "source": [
    "OMIM_PAGE_STRING = \"List_of_OMIM_disorder_codes\""
   ]
  },
  {
   "cell_type": "code",
   "execution_count": 19,
   "metadata": {},
   "outputs": [],
   "source": [
    "wiki_wiki = wikipediaapi.Wikipedia('en', extract_format=wikipediaapi.ExtractFormat.WIKI)\n",
    "wiki_page = wiki_wiki.page(OMIM_PAGE_STRING)"
   ]
  },
  {
   "cell_type": "code",
   "execution_count": 28,
   "metadata": {},
   "outputs": [
    {
     "name": "stdout",
     "output_type": "stream",
     "text": [
      "  OMIM ID                                            Disease  \\\n",
      "0  202110                    Isolated 17,20-lyase deficiency   \n",
      "1  202110        17-alpha-hydroxylase/17,20-lyase deficiency   \n",
      "2  300438  17-beta-hydroxysteroid dehydrogenase X deficiency   \n",
      "3  610006                          2-methylbutyrylglycinuria   \n",
      "4  231530         3-hydroxyacyl-coa dehydrogenase deficiency   \n",
      "\n",
      "  Protein Associated  \n",
      "0            CYP17A1  \n",
      "1            CYP17A1  \n",
      "2           HSD17B10  \n",
      "3             ACADSB  \n",
      "4             HADHSC  \n"
     ]
    }
   ],
   "source": [
    "lines = wiki_page.text.split(\"\\n\")\n",
    "lines = lines[2:len(lines)-3]\n",
    "df = pd.DataFrame(columns=[\"OMIM ID\", \"Disease\", \"Protein Associated\"])\n",
    "for line in lines:\n",
    "    row = line.split(\";\")\n",
    "    new_row = {\"OMIM ID\": row[1][1:], \"Disease\": row[0], \"Protein Associated\": row[2][1:]}\n",
    "    df = df.append(new_row, ignore_index=True)\n",
    "print(df.head())"
   ]
  },
  {
   "cell_type": "code",
   "execution_count": 29,
   "metadata": {},
   "outputs": [],
   "source": [
    "df.to_csv(\"omim_ids.csv\", encoding='utf-8', index=False)"
   ]
  }
 ],
 "metadata": {
  "kernelspec": {
   "display_name": "Python 3",
   "language": "python",
   "name": "python3"
  },
  "language_info": {
   "codemirror_mode": {
    "name": "ipython",
    "version": 3
   },
   "file_extension": ".py",
   "mimetype": "text/x-python",
   "name": "python",
   "nbconvert_exporter": "python",
   "pygments_lexer": "ipython3",
   "version": "3.7.7"
  }
 },
 "nbformat": 4,
 "nbformat_minor": 4
}
