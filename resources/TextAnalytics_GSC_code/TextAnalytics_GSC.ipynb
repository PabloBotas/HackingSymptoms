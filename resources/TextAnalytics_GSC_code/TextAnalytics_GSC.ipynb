{
 "cells": [
  {
   "cell_type": "code",
   "execution_count": 20,
   "metadata": {},
   "outputs": [],
   "source": [
    "import pandas as pd\n",
    "\n",
    "import numpy as np\n",
    "\n",
    "import pickle\n"
   ]
  },
  {
   "cell_type": "code",
   "execution_count": 8,
   "metadata": {},
   "outputs": [],
   "source": [
    "import requests, json, time"
   ]
  },
  {
   "cell_type": "code",
   "execution_count": 9,
   "metadata": {},
   "outputs": [],
   "source": [
    "from  tqdm import tqdm_notebook"
   ]
  },
  {
   "cell_type": "code",
   "execution_count": 10,
   "metadata": {},
   "outputs": [],
   "source": [
    "df_gsc  = pd.read_csv(\"../data/GSC_PLUS.csv\") "
   ]
  },
  {
   "cell_type": "code",
   "execution_count": 11,
   "metadata": {},
   "outputs": [
    {
     "data": {
      "text/html": [
       "<div>\n",
       "<style scoped>\n",
       "    .dataframe tbody tr th:only-of-type {\n",
       "        vertical-align: middle;\n",
       "    }\n",
       "\n",
       "    .dataframe tbody tr th {\n",
       "        vertical-align: top;\n",
       "    }\n",
       "\n",
       "    .dataframe thead th {\n",
       "        text-align: right;\n",
       "    }\n",
       "</style>\n",
       "<table border=\"1\" class=\"dataframe\">\n",
       "  <thead>\n",
       "    <tr style=\"text-align: right;\">\n",
       "      <th></th>\n",
       "      <th>file</th>\n",
       "      <th>text</th>\n",
       "      <th>HPO_symptoms</th>\n",
       "      <th>HPO_codes</th>\n",
       "      <th>starts</th>\n",
       "      <th>ends</th>\n",
       "    </tr>\n",
       "  </thead>\n",
       "  <tbody>\n",
       "    <tr>\n",
       "      <th>0</th>\n",
       "      <td>1003450</td>\n",
       "      <td>A syndrome of brachydactyly (absence of some m...</td>\n",
       "      <td>['brachydactyly', 'absence of some middle or d...</td>\n",
       "      <td>['0001156', '0009881', '0001798', '0001792', '...</td>\n",
       "      <td>[14, 29, 74, 86, 105, 120, 166, 210, 232, 346,...</td>\n",
       "      <td>[27, 71, 103, 103, 118, 163, 208, 226, 253, 37...</td>\n",
       "    </tr>\n",
       "    <tr>\n",
       "      <th>1</th>\n",
       "      <td>10051003</td>\n",
       "      <td>Townes-Brocks syndrome (TBS) is an autosomal d...</td>\n",
       "      <td>['autosomal dominant disorder', 'autosomal dom...</td>\n",
       "      <td>['0000006', '0000006', '0000006', '0003828', '...</td>\n",
       "      <td>[35, 35, 45, 95, 95, 139, 148, 163, 177, 186, ...</td>\n",
       "      <td>[62, 53, 53, 114, 103, 161, 161, 175, 197, 197...</td>\n",
       "    </tr>\n",
       "    <tr>\n",
       "      <th>2</th>\n",
       "      <td>10066029</td>\n",
       "      <td>Nevoid basal cell carcinoma syndrome (NBCCS) i...</td>\n",
       "      <td>['basal cell carcinoma', 'autosomal dominant',...</td>\n",
       "      <td>['0002671', '0000006', '0000006', '0000006', '...</td>\n",
       "      <td>[7, 89, 89, 99, 99, 143, 143, 208, 238, 250, 2...</td>\n",
       "      <td>[27, 107, 113, 113, 107, 164, 151, 229, 261, 2...</td>\n",
       "    </tr>\n",
       "    <tr>\n",
       "      <th>3</th>\n",
       "      <td>10196695</td>\n",
       "      <td>Angelman syndrome (AS) is a neurodevelopmental...</td>\n",
       "      <td>['neurodevelopmental disorder', 'contiguous ge...</td>\n",
       "      <td>['0000707', '0001466']</td>\n",
       "      <td>[28, 839]</td>\n",
       "      <td>[55, 863]</td>\n",
       "    </tr>\n",
       "    <tr>\n",
       "      <th>4</th>\n",
       "      <td>10417280</td>\n",
       "      <td>Prader-Willi syndrome (PWS) and Angelman syndr...</td>\n",
       "      <td>['neurobehavioral disorders', 'de novo']</td>\n",
       "      <td>['0000708', '0003745']</td>\n",
       "      <td>[68, 223]</td>\n",
       "      <td>[93, 230]</td>\n",
       "    </tr>\n",
       "  </tbody>\n",
       "</table>\n",
       "</div>"
      ],
      "text/plain": [
       "       file                                               text  \\\n",
       "0   1003450  A syndrome of brachydactyly (absence of some m...   \n",
       "1  10051003  Townes-Brocks syndrome (TBS) is an autosomal d...   \n",
       "2  10066029  Nevoid basal cell carcinoma syndrome (NBCCS) i...   \n",
       "3  10196695  Angelman syndrome (AS) is a neurodevelopmental...   \n",
       "4  10417280  Prader-Willi syndrome (PWS) and Angelman syndr...   \n",
       "\n",
       "                                        HPO_symptoms  \\\n",
       "0  ['brachydactyly', 'absence of some middle or d...   \n",
       "1  ['autosomal dominant disorder', 'autosomal dom...   \n",
       "2  ['basal cell carcinoma', 'autosomal dominant',...   \n",
       "3  ['neurodevelopmental disorder', 'contiguous ge...   \n",
       "4           ['neurobehavioral disorders', 'de novo']   \n",
       "\n",
       "                                           HPO_codes  \\\n",
       "0  ['0001156', '0009881', '0001798', '0001792', '...   \n",
       "1  ['0000006', '0000006', '0000006', '0003828', '...   \n",
       "2  ['0002671', '0000006', '0000006', '0000006', '...   \n",
       "3                             ['0000707', '0001466']   \n",
       "4                             ['0000708', '0003745']   \n",
       "\n",
       "                                              starts  \\\n",
       "0  [14, 29, 74, 86, 105, 120, 166, 210, 232, 346,...   \n",
       "1  [35, 35, 45, 95, 95, 139, 148, 163, 177, 186, ...   \n",
       "2  [7, 89, 89, 99, 99, 143, 143, 208, 238, 250, 2...   \n",
       "3                                          [28, 839]   \n",
       "4                                          [68, 223]   \n",
       "\n",
       "                                                ends  \n",
       "0  [27, 71, 103, 103, 118, 163, 208, 226, 253, 37...  \n",
       "1  [62, 53, 53, 114, 103, 161, 161, 175, 197, 197...  \n",
       "2  [27, 107, 113, 113, 107, 164, 151, 229, 261, 2...  \n",
       "3                                          [55, 863]  \n",
       "4                                          [93, 230]  "
      ]
     },
     "execution_count": 11,
     "metadata": {},
     "output_type": "execute_result"
    }
   ],
   "source": [
    "df_gsc.head()"
   ]
  },
  {
   "cell_type": "code",
   "execution_count": 12,
   "metadata": {},
   "outputs": [
    {
     "data": {
      "text/plain": [
       "(228, 6)"
      ]
     },
     "execution_count": 12,
     "metadata": {},
     "output_type": "execute_result"
    }
   ],
   "source": [
    "df_gsc.shape"
   ]
  },
  {
   "cell_type": "code",
   "execution_count": 13,
   "metadata": {},
   "outputs": [],
   "source": [
    "#TEXTANALYTICS_URL = \"http://hacksymptoms-appservice.azurewebsites.net/text/analytics/v3.0-preview.1/domains/health\"\n",
    "TEXTANALYTICS_URL=\"https://ta4h-app-service.azurewebsites.net/text/analytics/v3.0-preview.1/domains/health\"\n",
    "HEADERS = {\n",
    "  'Content-Type': 'application/json',\n",
    "  'Accept': 'application/json',\n",
    "}\n"
   ]
  },
  {
   "cell_type": "code",
   "execution_count": 30,
   "metadata": {},
   "outputs": [
    {
     "name": "stderr",
     "output_type": "stream",
     "text": [
      "/anaconda/envs/azureml_py36/lib/python3.6/site-packages/ipykernel_launcher.py:6: TqdmDeprecationWarning: This function will be removed in tqdm==5.0.0\n",
      "Please use `tqdm.notebook.tqdm` instead of `tqdm.tqdm_notebook`\n",
      "  \n"
     ]
    },
    {
     "data": {
      "application/vnd.jupyter.widget-view+json": {
       "model_id": "ca7482d09a0c45d9a5a16e1cbc89da00",
       "version_major": 2,
       "version_minor": 0
      },
      "text/plain": [
       "HBox(children=(FloatProgress(value=1.0, bar_style='info', max=1.0), HTML(value='')))"
      ]
     },
     "metadata": {},
     "output_type": "display_data"
    },
    {
     "name": "stdout",
     "output_type": "stream",
     "text": [
      "<Response [200]>\n",
      "processed batch: 1\n",
      "<Response [200]>\n",
      "processed batch: 2\n",
      "<Response [200]>\n",
      "processed batch: 3\n",
      "<Response [200]>\n",
      "processed batch: 4\n",
      "<Response [200]>\n",
      "processed batch: 5\n",
      "<Response [200]>\n",
      "processed batch: 6\n",
      "<Response [200]>\n",
      "processed batch: 7\n",
      "<Response [200]>\n",
      "processed batch: 8\n",
      "<Response [200]>\n",
      "processed batch: 9\n",
      "<Response [200]>\n",
      "processed batch: 10\n",
      "<Response [200]>\n",
      "processed batch: 11\n",
      "<Response [200]>\n",
      "processed batch: 12\n",
      "<Response [200]>\n",
      "processed batch: 13\n",
      "<Response [200]>\n",
      "processed batch: 14\n",
      "<Response [200]>\n",
      "processed batch: 15\n",
      "<Response [200]>\n",
      "processed batch: 16\n",
      "<Response [200]>\n",
      "processed batch: 17\n",
      "<Response [200]>\n",
      "processed batch: 18\n",
      "<Response [200]>\n",
      "processed batch: 19\n",
      "<Response [200]>\n",
      "processed batch: 20\n",
      "<Response [200]>\n",
      "processed batch: 21\n",
      "<Response [200]>\n",
      "processed batch: 22\n",
      "<Response [200]>\n",
      "processed batch: 23\n",
      "<Response [200]>\n",
      "processed batch: 24\n",
      "<Response [200]>\n",
      "processed batch: 25\n",
      "<Response [200]>\n",
      "processed batch: 26\n",
      "\n"
     ]
    }
   ],
   "source": [
    "BATCH_SIZE = 10\n",
    "responses = {\"documents\":[]}\n",
    "n_in_batch = 1\n",
    "batch = 1\n",
    "payload = {\"documents\":[]}\n",
    "for i, r in tqdm_notebook(df_gsc.iterrows()):\n",
    "    doc = {\"language\":\"en\", \"id\":r[\"file\"], \"text\": r[\"text\"]}\n",
    "    payload[\"documents\"].append(doc)    \n",
    "   \n",
    "    if (n_in_batch == BATCH_SIZE) or (i == (df_gsc.shape[0] - 1)):\n",
    "        response = requests.request(\"POST\", TEXTANALYTICS_URL, headers=HEADERS, json = payload)\n",
    "        responses[\"documents\"]+= response.json()[\"documents\"]\n",
    "        n_in_batch = 1\n",
    "        payload = {\"documents\":[]}\n",
    "        print(response)\n",
    "        print(\"processed batch: \" + str(batch))\n",
    "        batch += 1\n",
    "        \n",
    "        time.sleep(1)\n",
    "     \n",
    "    n_in_batch += 1"
   ]
  },
  {
   "cell_type": "code",
   "execution_count": 34,
   "metadata": {},
   "outputs": [],
   "source": [
    "with open('text_analytics_responses.pickle', 'wb') as f:\n",
    "    pickle.dump(responses, f)"
   ]
  },
  {
   "cell_type": "code",
   "execution_count": 35,
   "metadata": {},
   "outputs": [],
   "source": [
    "gsc_responses = pd.read_pickle(\"text_analytics_responses.pickle\")"
   ]
  },
  {
   "cell_type": "code",
   "execution_count": 36,
   "metadata": {},
   "outputs": [
    {
     "data": {
      "text/plain": [
       "228"
      ]
     },
     "execution_count": 36,
     "metadata": {},
     "output_type": "execute_result"
    }
   ],
   "source": [
    "len(gsc_responses[\"documents\"])"
   ]
  },
  {
   "cell_type": "code",
   "execution_count": 27,
   "metadata": {},
   "outputs": [],
   "source": [
    "responses = {\"documents\":[]}"
   ]
  },
  {
   "cell_type": "code",
   "execution_count": 28,
   "metadata": {},
   "outputs": [],
   "source": [
    "for r in gsc_responses[\"documents\"]:\n",
    "    responses[\"documents\"] += r"
   ]
  },
  {
   "cell_type": "code",
   "execution_count": 29,
   "metadata": {},
   "outputs": [
    {
     "data": {
      "text/plain": [
       "226"
      ]
     },
     "execution_count": 29,
     "metadata": {},
     "output_type": "execute_result"
    }
   ],
   "source": [
    "len(responses[\"documents\"])"
   ]
  },
  {
   "cell_type": "code",
   "execution_count": null,
   "metadata": {},
   "outputs": [],
   "source": []
  }
 ],
 "metadata": {
  "kernelspec": {
   "display_name": "Python 3",
   "language": "python",
   "name": "python3"
  },
  "language_info": {
   "codemirror_mode": {
    "name": "ipython",
    "version": 3
   },
   "file_extension": ".py",
   "mimetype": "text/x-python",
   "name": "python",
   "nbconvert_exporter": "python",
   "pygments_lexer": "ipython3",
   "version": "3.6.9"
  }
 },
 "nbformat": 4,
 "nbformat_minor": 4
}
